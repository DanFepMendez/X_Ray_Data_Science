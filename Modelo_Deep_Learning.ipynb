{
  "nbformat": 4,
  "nbformat_minor": 0,
  "metadata": {
    "colab": {
      "provenance": [],
      "toc_visible": true
    },
    "kernelspec": {
      "name": "python3",
      "display_name": "Python 3"
    },
    "language_info": {
      "name": "python"
    }
  },
  "cells": [
    {
      "cell_type": "markdown",
      "source": [
        "#  **Colab Configuration**"
      ],
      "metadata": {
        "id": "y7Zc6iFJyT9O"
      }
    },
    {
      "cell_type": "markdown",
      "source": [
        "Si necesitas correr el modelo desde un entorno de google colab, este mismo fue diseñado para consumir los recursos suficientes y no sobrepasar los brindados en google colab"
      ],
      "metadata": {
        "id": "f9uRRO5pyXv4"
      }
    },
    {
      "cell_type": "code",
      "source": [
        "from google.colab import drive\n",
        "drive.mount('/content/drive')"
      ],
      "metadata": {
        "colab": {
          "base_uri": "https://localhost:8080/"
        },
        "id": "sESAYdsh2WId",
        "outputId": "7fe2421c-0fa1-4616-eb86-fa84be1f2277"
      },
      "execution_count": 23,
      "outputs": [
        {
          "output_type": "stream",
          "name": "stdout",
          "text": [
            "Drive already mounted at /content/drive; to attempt to forcibly remount, call drive.mount(\"/content/drive\", force_remount=True).\n"
          ]
        }
      ]
    },
    {
      "cell_type": "markdown",
      "source": [
        "Establecemos la ruta en la cual esta alojado el repositorio o zip de todas las X_ray Images"
      ],
      "metadata": {
        "id": "xnaBkPrp2F6c"
      }
    },
    {
      "cell_type": "code",
      "source": [
        "import zipfile\n",
        "import os\n",
        "import pandas as pd\n",
        "import matplotlib.pyplot as plt\n",
        "\n",
        "ruta_zip = '/content/drive/MyDrive/M7/archive (2).zip'"
      ],
      "metadata": {
        "id": "oA_8o4B-26FW"
      },
      "execution_count": 24,
      "outputs": []
    },
    {
      "cell_type": "markdown",
      "source": [
        "Descomprimimos cada una de ellas para ser leida de manera individual por nuestro modelo"
      ],
      "metadata": {
        "id": "OuXAKQVt2M2I"
      }
    },
    {
      "cell_type": "code",
      "source": [
        "#directorio_extraccion = '/content/drive/MyDrive'\n",
        "\n",
        "\n",
        "#with zipfile.ZipFile(ruta_zip, 'r') as zip_ref:\n",
        "#    zip_ref.extractall(directorio_extraccion)\n",
        "\n",
        "\n",
        "#archivos_extraidos = os.listdir(directorio_extraccion)"
      ],
      "metadata": {
        "id": "3HUqAyZ03Anf"
      },
      "execution_count": 28,
      "outputs": []
    },
    {
      "cell_type": "markdown",
      "source": [
        "#Model"
      ],
      "metadata": {
        "id": "OZOe7fn4yysQ"
      }
    },
    {
      "cell_type": "markdown",
      "source": [
        "##Librerias"
      ],
      "metadata": {
        "id": "F_OWc88hy2FD"
      }
    },
    {
      "cell_type": "code",
      "source": [
        "%run '/content/drive/MyDrive/M7/Funciones_M7.ipynb'"
      ],
      "metadata": {
        "id": "S_BTPI6UD9cu"
      },
      "execution_count": 25,
      "outputs": []
    },
    {
      "cell_type": "code",
      "source": [
        "pip install keras==2.12.0"
      ],
      "metadata": {
        "colab": {
          "base_uri": "https://localhost:8080/"
        },
        "id": "qEHgNUp-EODz",
        "outputId": "06ad71a7-5e89-4100-c24d-6c26c2adb282"
      },
      "execution_count": 26,
      "outputs": [
        {
          "output_type": "stream",
          "name": "stdout",
          "text": [
            "Requirement already satisfied: keras==2.12.0 in /usr/local/lib/python3.10/dist-packages (2.12.0)\n"
          ]
        }
      ]
    },
    {
      "cell_type": "code",
      "source": [
        "from sklearn.model_selection import GridSearchCV\n",
        "from keras.models import Sequential\n",
        "from keras.layers import Dense\n",
        "from keras.wrappers.scikit_learn import KerasClassifier\n",
        "import cv2\n",
        "import numpy as np"
      ],
      "metadata": {
        "id": "m3MvxEos-Q7b"
      },
      "execution_count": 27,
      "outputs": []
    },
    {
      "cell_type": "markdown",
      "source": [
        "##Obtencion de Imagenes desde Google Colab"
      ],
      "metadata": {
        "id": "YOCz8HrYy8mX"
      }
    },
    {
      "cell_type": "code",
      "execution_count": 29,
      "metadata": {
        "id": "cCfMrWh_BduM"
      },
      "outputs": [],
      "source": [
        "directorio_imagenes = '/content/drive/MyDrive/chest_xray/train/NORMAL'\n",
        "\n",
        "# Lista para almacenar las imágenes\n",
        "imagenes = []\n",
        "\n",
        "# Iterar sobre todas las imágenes en el directorio\n",
        "for filename in os.listdir(directorio_imagenes):\n",
        "    # Asegúrate de que sean archivos de imagen (puedes añadir más extensiones si es necesario)\n",
        "    if filename.endswith('.jpeg') or filename.endswith('.png'):\n",
        "        # Carga la imagen usando cv2.imread()\n",
        "        ruta_imagen = os.path.join(directorio_imagenes, filename)\n",
        "        imagen = cv2.imread(ruta_imagen)\n",
        "\n",
        "        # Puedes realizar procesamiento adicional si es necesario (cambio de tamaño, normalización, etc.)\n",
        "        # Por ejemplo:\n",
        "        imagen_resized = cv2.resize(imagen, (30, 30))\n",
        "\n",
        "        # Añade la imagen procesada a la lista\n",
        "        imagenes.append(imagen_resized.flatten())\n",
        "\n",
        "# Convierte la lista de imágenes a un array NumPy\n",
        "dataset = np.array(imagenes)"
      ]
    },
    {
      "cell_type": "code",
      "source": [
        "dataset_pneumonia,imagenes_pneumonia = trans_imag_array('/content/drive/MyDrive/chest_xray/train/PNEUMONIA')"
      ],
      "metadata": {
        "id": "VPYqWWXl6c8l"
      },
      "execution_count": 30,
      "outputs": []
    },
    {
      "cell_type": "markdown",
      "source": [
        "En este caso se puede observar que se cuenta con una muestra de 1341 imagenes para pascientes sin pneumonia y 3875 para pacientes con la enfermedad"
      ],
      "metadata": {
        "id": "i4FV5aJazDno"
      }
    },
    {
      "cell_type": "code",
      "source": [
        "dataset.shape"
      ],
      "metadata": {
        "colab": {
          "base_uri": "https://localhost:8080/"
        },
        "id": "WB986cAV5aDC",
        "outputId": "81b0cdc2-896a-4446-a319-34914449c6b5"
      },
      "execution_count": 31,
      "outputs": [
        {
          "output_type": "execute_result",
          "data": {
            "text/plain": [
              "(1341, 2700)"
            ]
          },
          "metadata": {},
          "execution_count": 31
        }
      ]
    },
    {
      "cell_type": "code",
      "source": [
        "dataset_pneumonia.shape"
      ],
      "metadata": {
        "colab": {
          "base_uri": "https://localhost:8080/"
        },
        "id": "4ROkoUuW7F01",
        "outputId": "56304447-6d4a-4ca1-bae9-d36729e000a3"
      },
      "execution_count": 32,
      "outputs": [
        {
          "output_type": "execute_result",
          "data": {
            "text/plain": [
              "(3875, 2700)"
            ]
          },
          "metadata": {},
          "execution_count": 32
        }
      ]
    },
    {
      "cell_type": "markdown",
      "source": [
        "Exploremos un poco como se ve cada uno de los arrays contruidos para pacientes con o sin pneumonia"
      ],
      "metadata": {
        "id": "dmLcT_i3zTxc"
      }
    },
    {
      "cell_type": "code",
      "source": [
        "imagen_a_mostrar = imagenes[2]  # Selecciona la primera imagen, puedes cambiar el índice según la imagen que desees mostrar\n",
        "\n",
        "imagen_reshaped = imagen_a_mostrar.reshape((30, 30, 3))\n",
        "plt.imshow(imagen_reshaped)\n",
        "plt.axis('off')\n",
        "plt.show()"
      ],
      "metadata": {
        "colab": {
          "base_uri": "https://localhost:8080/",
          "height": 406
        },
        "id": "wEfe5uL45rwn",
        "outputId": "5a23d22d-1458-4312-edbb-2d7cbf9ddfca"
      },
      "execution_count": 33,
      "outputs": [
        {
          "output_type": "display_data",
          "data": {
            "text/plain": [
              "<Figure size 640x480 with 1 Axes>"
            ],
            "image/png": "[encoded data removed]"
          },
          "metadata": {}
        }
      ]
    },
    {
      "cell_type": "code",
      "source": [
        "imagen_a_mostrar_pneumonia = imagenes_pneumonia[3]  # Selecciona la primera imagen, puedes cambiar el índice según la imagen que desees mostrar\n",
        "\n",
        "imagen_reshaped = imagen_a_mostrar_pneumonia.reshape((30, 30, 3))\n",
        "plt.imshow(imagen_reshaped)\n",
        "plt.axis('off')\n",
        "plt.show()"
      ],
      "metadata": {
        "colab": {
          "base_uri": "https://localhost:8080/",
          "height": 406
        },
        "id": "nph75OO07Ulx",
        "outputId": "b87c8f92-92da-4f3e-b003-33ef8b6f2845"
      },
      "execution_count": 34,
      "outputs": [
        {
          "output_type": "display_data",
          "data": {
            "text/plain": [
              "<Figure size 640x480 with 1 Axes>"
            ],
            "image/png": "[encoded data removed]"
          },
          "metadata": {}
        }
      ]
    },
    {
      "cell_type": "markdown",
      "source": [
        "## Creacion del Dataset/Imput de entrenamiento del modelo"
      ],
      "metadata": {
        "id": "9vnPeq2bzcr0"
      }
    },
    {
      "cell_type": "code",
      "source": [
        "df=pd.DataFrame(dataset)\n",
        "df_pneu=pd.DataFrame(dataset_pneumonia)"
      ],
      "metadata": {
        "id": "XzpZHZKY4qWv"
      },
      "execution_count": 35,
      "outputs": []
    },
    {
      "cell_type": "code",
      "source": [
        "df['Etiqueta']=np.zeros(df.shape[0])\n",
        "df_pneu['Etiqueta']=np.ones(df_pneu.shape[0])"
      ],
      "metadata": {
        "id": "IAWlHVQe7g5Z"
      },
      "execution_count": 36,
      "outputs": []
    },
    {
      "cell_type": "code",
      "source": [
        "df_train=pd.merge(df,df_pneu,how='outer')"
      ],
      "metadata": {
        "id": "io_Mhhlq4_qu"
      },
      "execution_count": 37,
      "outputs": []
    },
    {
      "cell_type": "code",
      "source": [
        "df_train.shape[0]"
      ],
      "metadata": {
        "colab": {
          "base_uri": "https://localhost:8080/"
        },
        "id": "qY9RfzQD5A_a",
        "outputId": "365a505d-e670-468b-d733-16d28c86b1ac"
      },
      "execution_count": 38,
      "outputs": [
        {
          "output_type": "execute_result",
          "data": {
            "text/plain": [
              "5216"
            ]
          },
          "metadata": {},
          "execution_count": 38
        }
      ]
    },
    {
      "cell_type": "code",
      "source": [
        "df_train.drop(columns=['Etiqueta'])"
      ],
      "metadata": {
        "colab": {
          "base_uri": "https://localhost:8080/",
          "height": 443
        },
        "id": "4hrn_b_xFitJ",
        "outputId": "d2ff1eb4-348a-4ffc-8dad-8a55606155b9"
      },
      "execution_count": 39,
      "outputs": [
        {
          "output_type": "execute_result",
          "data": {
            "text/plain": [
              "      0     1     2     3     4     5     6     7     8     9     ...  2690  \\\n",
              "0       19    19    19    69    69    69    92    92    92   108  ...    11   \n",
              "1       30    30    30    48    48    48   105   105   105   114  ...   142   \n",
              "2        0     0     0    49    49    49    77    77    77    86  ...   138   \n",
              "3       49    49    49    76    76    76   102   102   102   115  ...   146   \n",
              "4       87    87    87    58    58    58    40    40    40    47  ...   107   \n",
              "...    ...   ...   ...   ...   ...   ...   ...   ...   ...   ...  ...   ...   \n",
              "5211     0     0     0    46    46    46    71    71    71   120  ...   159   \n",
              "5212    87    87    87    93    93    93   102   102   102    92  ...   108   \n",
              "5213    28    28    28     0     0     0    40    40    40    62  ...   148   \n",
              "5214    51    51    51    54    54    54    46    46    46    29  ...   194   \n",
              "5215    10    10    10    30    30    30    41    41    41    44  ...   110   \n",
              "\n",
              "      2691  2692  2693  2694  2695  2696  2697  2698  2699  \n",
              "0       27    27    27    33    33    33    38    38    38  \n",
              "1       49    49    49     0     0     0     0     0     0  \n",
              "2       68    68    68     0     0     0     0     0     0  \n",
              "3       66    66    66     2     2     2    11    11    11  \n",
              "4      102   102   102     0     0     0     0     0     0  \n",
              "...    ...   ...   ...   ...   ...   ...   ...   ...   ...  \n",
              "5211    88    88    88     0     0     0     0     0     0  \n",
              "5212    55    55    55    18    18    18    19    19    19  \n",
              "5213   135   135   135   104   104   104    46    46    46  \n",
              "5214    78    78    78    28    28    28    26    26    26  \n",
              "5215    50    50    50     5     5     5    14    14    14  \n",
              "\n",
              "[5216 rows x 2700 columns]"
            ],
            "text/html": [
              "\n",
              "  <div id=\"df-e08351ea-d71f-491f-8684-e169fb1e3910\" class=\"colab-df-container\">\n",
              "    <div>\n",
              "<style scoped>\n",
              "    .dataframe tbody tr th:only-of-type {\n",
              "        vertical-align: middle;\n",
              "    }\n",
              "\n",
              "    .dataframe tbody tr th {\n",
              "        vertical-align: top;\n",
              "    }\n",
              "\n",
              "    .dataframe thead th {\n",
              "        text-align: right;\n",
              "    }\n",
              "</style>\n",
              "<table border=\"1\" class=\"dataframe\">\n",
              "  <thead>\n",
              "    <tr style=\"text-align: right;\">\n",
              "      <th></th>\n",
              "      <th>0</th>\n",
              "      <th>1</th>\n",
              "      <th>2</th>\n",
              "      <th>3</th>\n",
              "      <th>4</th>\n",
              "      <th>5</th>\n",
              "      <th>6</th>\n",
              "      <th>7</th>\n",
              "      <th>8</th>\n",
              "      <th>9</th>\n",
              "      <th>...</th>\n",
              "      <th>2690</th>\n",
              "      <th>2691</th>\n",
              "      <th>2692</th>\n",
              "      <th>2693</th>\n",
              "      <th>2694</th>\n",
              "      <th>2695</th>\n",
              "      <th>2696</th>\n",
              "      <th>2697</th>\n",
              "      <th>2698</th>\n",
              "      <th>2699</th>\n",
              "    </tr>\n",
              "  </thead>\n",
              "  <tbody>\n",
              "    <tr>\n",
              "      <th>0</th>\n",
              "      <td>19</td>\n",
              "      <td>19</td>\n",
              "      <td>19</td>\n",
              "      <td>69</td>\n",
              "      <td>69</td>\n",
              "      <td>69</td>\n",
              "      <td>92</td>\n",
              "      <td>92</td>\n",
              "      <td>92</td>\n",
              "      <td>108</td>\n",
              "      <td>...</td>\n",
              "      <td>11</td>\n",
              "      <td>27</td>\n",
              "      <td>27</td>\n",
              "      <td>27</td>\n",
              "      <td>33</td>\n",
              "      <td>33</td>\n",
              "      <td>33</td>\n",
              "      <td>38</td>\n",
              "      <td>38</td>\n",
              "      <td>38</td>\n",
              "    </tr>\n",
              "    <tr>\n",
              "      <th>1</th>\n",
              "      <td>30</td>\n",
              "      <td>30</td>\n",
              "      <td>30</td>\n",
              "      <td>48</td>\n",
              "      <td>48</td>\n",
              "      <td>48</td>\n",
              "      <td>105</td>\n",
              "      <td>105</td>\n",
              "      <td>105</td>\n",
              "      <td>114</td>\n",
              "      <td>...</td>\n",
              "      <td>142</td>\n",
              "      <td>49</td>\n",
              "      <td>49</td>\n",
              "      <td>49</td>\n",
              "      <td>0</td>\n",
              "      <td>0</td>\n",
              "      <td>0</td>\n",
              "      <td>0</td>\n",
              "      <td>0</td>\n",
              "      <td>0</td>\n",
              "    </tr>\n",
              "    <tr>\n",
              "      <th>2</th>\n",
              "      <td>0</td>\n",
              "      <td>0</td>\n",
              "      <td>0</td>\n",
              "      <td>49</td>\n",
              "      <td>49</td>\n",
              "      <td>49</td>\n",
              "      <td>77</td>\n",
              "      <td>77</td>\n",
              "      <td>77</td>\n",
              "      <td>86</td>\n",
              "      <td>...</td>\n",
              "      <td>138</td>\n",
              "      <td>68</td>\n",
              "      <td>68</td>\n",
              "      <td>68</td>\n",
              "      <td>0</td>\n",
              "      <td>0</td>\n",
              "      <td>0</td>\n",
              "      <td>0</td>\n",
              "      <td>0</td>\n",
              "      <td>0</td>\n",
              "    </tr>\n",
              "    <tr>\n",
              "      <th>3</th>\n",
              "      <td>49</td>\n",
              "      <td>49</td>\n",
              "      <td>49</td>\n",
              "      <td>76</td>\n",
              "      <td>76</td>\n",
              "      <td>76</td>\n",
              "      <td>102</td>\n",
              "      <td>102</td>\n",
              "      <td>102</td>\n",
              "      <td>115</td>\n",
              "      <td>...</td>\n",
              "      <td>146</td>\n",
              "      <td>66</td>\n",
              "      <td>66</td>\n",
              "      <td>66</td>\n",
              "      <td>2</td>\n",
              "      <td>2</td>\n",
              "      <td>2</td>\n",
              "      <td>11</td>\n",
              "      <td>11</td>\n",
              "      <td>11</td>\n",
              "    </tr>\n",
              "    <tr>\n",
              "      <th>4</th>\n",
              "      <td>87</td>\n",
              "      <td>87</td>\n",
              "      <td>87</td>\n",
              "      <td>58</td>\n",
              "      <td>58</td>\n",
              "      <td>58</td>\n",
              "      <td>40</td>\n",
              "      <td>40</td>\n",
              "      <td>40</td>\n",
              "      <td>47</td>\n",
              "      <td>...</td>\n",
              "      <td>107</td>\n",
              "      <td>102</td>\n",
              "      <td>102</td>\n",
              "      <td>102</td>\n",
              "      <td>0</td>\n",
              "      <td>0</td>\n",
              "      <td>0</td>\n",
              "      <td>0</td>\n",
              "      <td>0</td>\n",
              "      <td>0</td>\n",
              "    </tr>\n",
              "    <tr>\n",
              "      <th>...</th>\n",
              "      <td>...</td>\n",
              "      <td>...</td>\n",
              "      <td>...</td>\n",
              "      <td>...</td>\n",
              "      <td>...</td>\n",
              "      <td>...</td>\n",
              "      <td>...</td>\n",
              "      <td>...</td>\n",
              "      <td>...</td>\n",
              "      <td>...</td>\n",
              "      <td>...</td>\n",
              "      <td>...</td>\n",
              "      <td>...</td>\n",
              "      <td>...</td>\n",
              "      <td>...</td>\n",
              "      <td>...</td>\n",
              "      <td>...</td>\n",
              "      <td>...</td>\n",
              "      <td>...</td>\n",
              "      <td>...</td>\n",
              "      <td>...</td>\n",
              "    </tr>\n",
              "    <tr>\n",
              "      <th>5211</th>\n",
              "      <td>0</td>\n",
              "      <td>0</td>\n",
              "      <td>0</td>\n",
              "      <td>46</td>\n",
              "      <td>46</td>\n",
              "      <td>46</td>\n",
              "      <td>71</td>\n",
              "      <td>71</td>\n",
              "      <td>71</td>\n",
              "      <td>120</td>\n",
              "      <td>...</td>\n",
              "      <td>159</td>\n",
              "      <td>88</td>\n",
              "      <td>88</td>\n",
              "      <td>88</td>\n",
              "      <td>0</td>\n",
              "      <td>0</td>\n",
              "      <td>0</td>\n",
              "      <td>0</td>\n",
              "      <td>0</td>\n",
              "      <td>0</td>\n",
              "    </tr>\n",
              "    <tr>\n",
              "      <th>5212</th>\n",
              "      <td>87</td>\n",
              "      <td>87</td>\n",
              "      <td>87</td>\n",
              "      <td>93</td>\n",
              "      <td>93</td>\n",
              "      <td>93</td>\n",
              "      <td>102</td>\n",
              "      <td>102</td>\n",
              "      <td>102</td>\n",
              "      <td>92</td>\n",
              "      <td>...</td>\n",
              "      <td>108</td>\n",
              "      <td>55</td>\n",
              "      <td>55</td>\n",
              "      <td>55</td>\n",
              "      <td>18</td>\n",
              "      <td>18</td>\n",
              "      <td>18</td>\n",
              "      <td>19</td>\n",
              "      <td>19</td>\n",
              "      <td>19</td>\n",
              "    </tr>\n",
              "    <tr>\n",
              "      <th>5213</th>\n",
              "      <td>28</td>\n",
              "      <td>28</td>\n",
              "      <td>28</td>\n",
              "      <td>0</td>\n",
              "      <td>0</td>\n",
              "      <td>0</td>\n",
              "      <td>40</td>\n",
              "      <td>40</td>\n",
              "      <td>40</td>\n",
              "      <td>62</td>\n",
              "      <td>...</td>\n",
              "      <td>148</td>\n",
              "      <td>135</td>\n",
              "      <td>135</td>\n",
              "      <td>135</td>\n",
              "      <td>104</td>\n",
              "      <td>104</td>\n",
              "      <td>104</td>\n",
              "      <td>46</td>\n",
              "      <td>46</td>\n",
              "      <td>46</td>\n",
              "    </tr>\n",
              "    <tr>\n",
              "      <th>5214</th>\n",
              "      <td>51</td>\n",
              "      <td>51</td>\n",
              "      <td>51</td>\n",
              "      <td>54</td>\n",
              "      <td>54</td>\n",
              "      <td>54</td>\n",
              "      <td>46</td>\n",
              "      <td>46</td>\n",
              "      <td>46</td>\n",
              "      <td>29</td>\n",
              "      <td>...</td>\n",
              "      <td>194</td>\n",
              "      <td>78</td>\n",
              "      <td>78</td>\n",
              "      <td>78</td>\n",
              "      <td>28</td>\n",
              "      <td>28</td>\n",
              "      <td>28</td>\n",
              "      <td>26</td>\n",
              "      <td>26</td>\n",
              "      <td>26</td>\n",
              "    </tr>\n",
              "    <tr>\n",
              "      <th>5215</th>\n",
              "      <td>10</td>\n",
              "      <td>10</td>\n",
              "      <td>10</td>\n",
              "      <td>30</td>\n",
              "      <td>30</td>\n",
              "      <td>30</td>\n",
              "      <td>41</td>\n",
              "      <td>41</td>\n",
              "      <td>41</td>\n",
              "      <td>44</td>\n",
              "      <td>...</td>\n",
              "      <td>110</td>\n",
              "      <td>50</td>\n",
              "      <td>50</td>\n",
              "      <td>50</td>\n",
              "      <td>5</td>\n",
              "      <td>5</td>\n",
              "      <td>5</td>\n",
              "      <td>14</td>\n",
              "      <td>14</td>\n",
              "      <td>14</td>\n",
              "    </tr>\n",
              "  </tbody>\n",
              "</table>\n",
              "<p>5216 rows × 2700 columns</p>\n",
              "</div>\n",
              "    <div class=\"colab-df-buttons\">\n",
              "\n",
              "  <div class=\"colab-df-container\">\n",
              "    <button class=\"colab-df-convert\" onclick=\"convertToInteractive('df-e08351ea-d71f-491f-8684-e169fb1e3910')\"\n",
              "            title=\"Convert this dataframe to an interactive table.\"\n",
              "            style=\"display:none;\">\n",
              "\n",
              "  <svg xmlns=\"http://www.w3.org/2000/svg\" height=\"24px\" viewBox=\"0 -960 960 960\">\n",
              "    <path d=\"M120-120v-720h720v720H120Zm60-500h600v-160H180v160Zm220 220h160v-160H400v160Zm0 220h160v-160H400v160ZM180-400h160v-160H180v160Zm440 0h160v-160H620v160ZM180-180h160v-160H180v160Zm440 0h160v-160H620v160Z\"/>\n",
              "  </svg>\n",
              "    </button>\n",
              "\n",
              "  <style>\n",
              "    .colab-df-container {\n",
              "      display:flex;\n",
              "      gap: 12px;\n",
              "    }\n",
              "\n",
              "    .colab-df-convert {\n",
              "      background-color: #E8F0FE;\n",
              "      border: none;\n",
              "      border-radius: 50%;\n",
              "      cursor: pointer;\n",
              "      display: none;\n",
              "      fill: #1967D2;\n",
              "      height: 32px;\n",
              "      padding: 0 0 0 0;\n",
              "      width: 32px;\n",
              "    }\n",
              "\n",
              "    .colab-df-convert:hover {\n",
              "      background-color: #E2EBFA;\n",
              "      box-shadow: 0px 1px 2px rgba(60, 64, 67, 0.3), 0px 1px 3px 1px rgba(60, 64, 67, 0.15);\n",
              "      fill: #174EA6;\n",
              "    }\n",
              "\n",
              "    .colab-df-buttons div {\n",
              "      margin-bottom: 4px;\n",
              "    }\n",
              "\n",
              "    [theme=dark] .colab-df-convert {\n",
              "      background-color: #3B4455;\n",
              "      fill: #D2E3FC;\n",
              "    }\n",
              "\n",
              "    [theme=dark] .colab-df-convert:hover {\n",
              "      background-color: #434B5C;\n",
              "      box-shadow: 0px 1px 3px 1px rgba(0, 0, 0, 0.15);\n",
              "      filter: drop-shadow(0px 1px 2px rgba(0, 0, 0, 0.3));\n",
              "      fill: #FFFFFF;\n",
              "    }\n",
              "  </style>\n",
              "\n",
              "    <script>\n",
              "      const buttonEl =\n",
              "        document.querySelector('#df-e08351ea-d71f-491f-8684-e169fb1e3910 button.colab-df-convert');\n",
              "      buttonEl.style.display =\n",
              "        google.colab.kernel.accessAllowed ? 'block' : 'none';\n",
              "\n",
              "      async function convertToInteractive(key) {\n",
              "        const element = document.querySelector('#df-e08351ea-d71f-491f-8684-e169fb1e3910');\n",
              "        const dataTable =\n",
              "          await google.colab.kernel.invokeFunction('convertToInteractive',\n",
              "                                                    [key], {});\n",
              "        if (!dataTable) return;\n",
              "\n",
              "        const docLinkHtml = 'Like what you see? Visit the ' +\n",
              "          '<a target=\"_blank\" href=https://colab.research.google.com/notebooks/data_table.ipynb>data table notebook</a>'\n",
              "          + ' to learn more about interactive tables.';\n",
              "        element.innerHTML = '';\n",
              "        dataTable['output_type'] = 'display_data';\n",
              "        await google.colab.output.renderOutput(dataTable, element);\n",
              "        const docLink = document.createElement('div');\n",
              "        docLink.innerHTML = docLinkHtml;\n",
              "        element.appendChild(docLink);\n",
              "      }\n",
              "    </script>\n",
              "  </div>\n",
              "\n",
              "\n",
              "<div id=\"df-b626319b-ea6d-4384-9182-598ec7fd3c52\">\n",
              "  <button class=\"colab-df-quickchart\" onclick=\"quickchart('df-b626319b-ea6d-4384-9182-598ec7fd3c52')\"\n",
              "            title=\"Suggest charts\"\n",
              "            style=\"display:none;\">\n",
              "\n",
              "<svg xmlns=\"http://www.w3.org/2000/svg\" height=\"24px\"viewBox=\"0 0 24 24\"\n",
              "     width=\"24px\">\n",
              "    <g>\n",
              "        <path d=\"M19 3H5c-1.1 0-2 .9-2 2v14c0 1.1.9 2 2 2h14c1.1 0 2-.9 2-2V5c0-1.1-.9-2-2-2zM9 17H7v-7h2v7zm4 0h-2V7h2v10zm4 0h-2v-4h2v4z\"/>\n",
              "    </g>\n",
              "</svg>\n",
              "  </button>\n",
              "\n",
              "<style>\n",
              "  .colab-df-quickchart {\n",
              "      --bg-color: #E8F0FE;\n",
              "      --fill-color: #1967D2;\n",
              "      --hover-bg-color: #E2EBFA;\n",
              "      --hover-fill-color: #174EA6;\n",
              "      --disabled-fill-color: #AAA;\n",
              "      --disabled-bg-color: #DDD;\n",
              "  }\n",
              "\n",
              "  [theme=dark] .colab-df-quickchart {\n",
              "      --bg-color: #3B4455;\n",
              "      --fill-color: #D2E3FC;\n",
              "      --hover-bg-color: #434B5C;\n",
              "      --hover-fill-color: #FFFFFF;\n",
              "      --disabled-bg-color: #3B4455;\n",
              "      --disabled-fill-color: #666;\n",
              "  }\n",
              "\n",
              "  .colab-df-quickchart {\n",
              "    background-color: var(--bg-color);\n",
              "    border: none;\n",
              "    border-radius: 50%;\n",
              "    cursor: pointer;\n",
              "    display: none;\n",
              "    fill: var(--fill-color);\n",
              "    height: 32px;\n",
              "    padding: 0;\n",
              "    width: 32px;\n",
              "  }\n",
              "\n",
              "  .colab-df-quickchart:hover {\n",
              "    background-color: var(--hover-bg-color);\n",
              "    box-shadow: 0 1px 2px rgba(60, 64, 67, 0.3), 0 1px 3px 1px rgba(60, 64, 67, 0.15);\n",
              "    fill: var(--button-hover-fill-color);\n",
              "  }\n",
              "\n",
              "  .colab-df-quickchart-complete:disabled,\n",
              "  .colab-df-quickchart-complete:disabled:hover {\n",
              "    background-color: var(--disabled-bg-color);\n",
              "    fill: var(--disabled-fill-color);\n",
              "    box-shadow: none;\n",
              "  }\n",
              "\n",
              "  .colab-df-spinner {\n",
              "    border: 2px solid var(--fill-color);\n",
              "    border-color: transparent;\n",
              "    border-bottom-color: var(--fill-color);\n",
              "    animation:\n",
              "      spin 1s steps(1) infinite;\n",
              "  }\n",
              "\n",
              "  @keyframes spin {\n",
              "    0% {\n",
              "      border-color: transparent;\n",
              "      border-bottom-color: var(--fill-color);\n",
              "      border-left-color: var(--fill-color);\n",
              "    }\n",
              "    20% {\n",
              "      border-color: transparent;\n",
              "      border-left-color: var(--fill-color);\n",
              "      border-top-color: var(--fill-color);\n",
              "    }\n",
              "    30% {\n",
              "      border-color: transparent;\n",
              "      border-left-color: var(--fill-color);\n",
              "      border-top-color: var(--fill-color);\n",
              "      border-right-color: var(--fill-color);\n",
              "    }\n",
              "    40% {\n",
              "      border-color: transparent;\n",
              "      border-right-color: var(--fill-color);\n",
              "      border-top-color: var(--fill-color);\n",
              "    }\n",
              "    60% {\n",
              "      border-color: transparent;\n",
              "      border-right-color: var(--fill-color);\n",
              "    }\n",
              "    80% {\n",
              "      border-color: transparent;\n",
              "      border-right-color: var(--fill-color);\n",
              "      border-bottom-color: var(--fill-color);\n",
              "    }\n",
              "    90% {\n",
              "      border-color: transparent;\n",
              "      border-bottom-color: var(--fill-color);\n",
              "    }\n",
              "  }\n",
              "</style>\n",
              "\n",
              "  <script>\n",
              "    async function quickchart(key) {\n",
              "      const quickchartButtonEl =\n",
              "        document.querySelector('#' + key + ' button');\n",
              "      quickchartButtonEl.disabled = true;  // To prevent multiple clicks.\n",
              "      quickchartButtonEl.classList.add('colab-df-spinner');\n",
              "      try {\n",
              "        const charts = await google.colab.kernel.invokeFunction(\n",
              "            'suggestCharts', [key], {});\n",
              "      } catch (error) {\n",
              "        console.error('Error during call to suggestCharts:', error);\n",
              "      }\n",
              "      quickchartButtonEl.classList.remove('colab-df-spinner');\n",
              "      quickchartButtonEl.classList.add('colab-df-quickchart-complete');\n",
              "    }\n",
              "    (() => {\n",
              "      let quickchartButtonEl =\n",
              "        document.querySelector('#df-b626319b-ea6d-4384-9182-598ec7fd3c52 button');\n",
              "      quickchartButtonEl.style.display =\n",
              "        google.colab.kernel.accessAllowed ? 'block' : 'none';\n",
              "    })();\n",
              "  </script>\n",
              "</div>\n",
              "\n",
              "    </div>\n",
              "  </div>\n"
            ]
          },
          "metadata": {},
          "execution_count": 39
        }
      ]
    },
    {
      "cell_type": "markdown",
      "source": [
        "Definimos con este dataset creado nuestras variable de interes (y) y variables independientes (X)"
      ],
      "metadata": {
        "id": "aDFU39QQ09DJ"
      }
    },
    {
      "cell_type": "code",
      "source": [
        "X=df_train.drop(columns=['Etiqueta'])\n",
        "y=df_train['Etiqueta']"
      ],
      "metadata": {
        "id": "qIBbfgzWUyM4"
      },
      "execution_count": 41,
      "outputs": []
    },
    {
      "cell_type": "markdown",
      "source": [
        "## Tuning inicial del modelo con GridSearch"
      ],
      "metadata": {
        "id": "zdTZJjq9zqGS"
      }
    },
    {
      "cell_type": "markdown",
      "source": [
        "Con el fin de precisar cual seria la mejor configuracion posible o al menos la mejor de un grupo selecto (posibilidades finitas) se realizara un metodo de optimizacion con GridSeacrh el cual realizara la evaluacion de todas las posibles configuraciones que se le pidan y devolvera aquella con el mejor rendimiento"
      ],
      "metadata": {
        "id": "s08FBjq71Gt4"
      }
    },
    {
      "cell_type": "code",
      "source": [
        "model = KerasClassifier(build_fn=create_model, epochs=10, batch_size=10, verbose=0)\n",
        "\n",
        "# Definir los parámetros a buscar\n",
        "param_grid = {\n",
        "    'neurons': [8, 16, 32],\n",
        "    'layers': [1, 2, 3]\n",
        "}\n",
        "\n",
        "# Realizar la búsqueda de hiperparámetros con GridSearchCV\n",
        "grid = GridSearchCV(estimator=model, param_grid=param_grid, cv=3)\n",
        "grid_result = grid.fit(X.iloc[0:500,:], y[0:500])\n",
        "\n",
        "# Mostrar los resultados\n",
        "print(\"Mejores parámetros encontrados:\", grid_result.best_params_)\n",
        "print(\"Mejor precisión promedio:\", grid_result.best_score_)"
      ],
      "metadata": {
        "colab": {
          "base_uri": "https://localhost:8080/"
        },
        "id": "_K7lzZju-FYs",
        "outputId": "1a32dd58-49f5-4840-b153-ee0fd1451624"
      },
      "execution_count": 42,
      "outputs": [
        {
          "output_type": "stream",
          "name": "stderr",
          "text": [
            "<ipython-input-42-81a5f395de99>:1: DeprecationWarning: KerasClassifier is deprecated, use Sci-Keras (https://github.com/adriangb/scikeras) instead. See https://www.adriangb.com/scikeras/stable/migration.html for help migrating.\n",
            "  model = KerasClassifier(build_fn=create_model, epochs=10, batch_size=10, verbose=0)\n"
          ]
        },
        {
          "output_type": "stream",
          "name": "stdout",
          "text": [
            "Mejores parámetros encontrados: {'layers': 1, 'neurons': 8}\n",
            "Mejor precisión promedio: 1.0\n"
          ]
        }
      ]
    },
    {
      "cell_type": "markdown",
      "source": [
        "Es importante especificar que este modelo al tener un volumen muy alto de datos y tener que evaluar diferentes configuraciones, se le brindara la opcion de hacerlo con un volumen de unicamente 500 datos escogidos randomicamente  y que nos permitan tener una idea de la mejor configuracion para entrenarlo con la totalidad o al menos una muestra mayor de datos"
      ],
      "metadata": {
        "id": "pkUXSYQQ1c3W"
      }
    },
    {
      "cell_type": "markdown",
      "source": [
        "##Creacion del modelo"
      ],
      "metadata": {
        "id": "tgT3kRTazx8c"
      }
    },
    {
      "cell_type": "markdown",
      "source": [
        "Creamos el modelo utilizando la version de nuestra funcion \"Create model\" del archivo funciones"
      ],
      "metadata": {
        "id": "B2wsOrna14Xf"
      }
    },
    {
      "cell_type": "code",
      "source": [
        "model_use=create_model(32,2)"
      ],
      "metadata": {
        "id": "Aqemvs5vFMaj"
      },
      "execution_count": 43,
      "outputs": []
    },
    {
      "cell_type": "markdown",
      "source": [
        "## Monitoreo del Modelo"
      ],
      "metadata": {
        "id": "OUrjuBnBz4PV"
      }
    },
    {
      "cell_type": "markdown",
      "source": [
        "En este caso se quiere ver la evolucion del modelo mientras este es entrenado, para ello se recopilan datos de \"Accuracy\" y la \"Funcion de Perdida\", con el paso de las epocas, para saber que tanto mejora el modelo con la configuracion dada por el tuning de hiperparametros"
      ],
      "metadata": {
        "id": "Otz7cVbOz9Li"
      }
    },
    {
      "cell_type": "code",
      "source": [
        "loss_per_epoch=[]\n",
        "accuracy_per_epoch=[]\n",
        "num_epochs=15\n",
        "\n",
        "for epoch in range(num_epochs):\n",
        "    # Entrenamiento por época\n",
        "    history = model_use.fit(\n",
        "      df_train.drop(columns=['Etiqueta']),df_train['Etiqueta'],epochs=1\n",
        "    )\n",
        "\n",
        "    # Almacenar la pérdida y la métrica (precisión en este caso) por época\n",
        "    loss_per_epoch.append(history.history['loss'][0])\n",
        "    accuracy_per_epoch.append(history.history['accuracy'][0])"
      ],
      "metadata": {
        "colab": {
          "base_uri": "https://localhost:8080/"
        },
        "id": "oFTkCMyjJLiC",
        "outputId": "f099f2be-db60-42c2-d60b-bd4854cb315e"
      },
      "execution_count": 44,
      "outputs": [
        {
          "output_type": "stream",
          "name": "stdout",
          "text": [
            "163/163 [==============================] - 19s 107ms/step - loss: 46.4979 - accuracy: 0.7860\n",
            "163/163 [==============================] - 18s 108ms/step - loss: 0.5604 - accuracy: 0.9153\n",
            "163/163 [==============================] - 18s 109ms/step - loss: 0.6598 - accuracy: 0.9062\n",
            "163/163 [==============================] - 17s 106ms/step - loss: 0.5212 - accuracy: 0.8984\n",
            "163/163 [==============================] - 17s 106ms/step - loss: 0.4621 - accuracy: 0.9116\n",
            "163/163 [==============================] - 17s 106ms/step - loss: 0.3254 - accuracy: 0.9164\n",
            "163/163 [==============================] - 17s 106ms/step - loss: 0.1962 - accuracy: 0.9367\n",
            "163/163 [==============================] - 17s 107ms/step - loss: 0.1795 - accuracy: 0.9352\n",
            "163/163 [==============================] - 17s 105ms/step - loss: 22.4805 - accuracy: 0.8085\n",
            "163/163 [==============================] - 17s 106ms/step - loss: 0.7478 - accuracy: 0.9022\n",
            "163/163 [==============================] - 19s 116ms/step - loss: 0.2341 - accuracy: 0.9300\n",
            "163/163 [==============================] - 17s 104ms/step - loss: 0.1738 - accuracy: 0.9379\n",
            "163/163 [==============================] - 17s 106ms/step - loss: 0.1368 - accuracy: 0.9484\n",
            "163/163 [==============================] - 17s 105ms/step - loss: 0.1734 - accuracy: 0.9367\n",
            "163/163 [==============================] - 17s 106ms/step - loss: 0.1764 - accuracy: 0.9344\n"
          ]
        }
      ]
    },
    {
      "cell_type": "markdown",
      "source": [
        "Graficamos las funciones de perdida con el paso de las epocas de entrenamiento del Modelo"
      ],
      "metadata": {
        "id": "SmVM2N990PYd"
      }
    },
    {
      "cell_type": "code",
      "source": [
        "plt.xlabel('Epoca')\n",
        "plt.ylabel('Loss')\n",
        "plt.title('loss_per_epoch')\n",
        "plt.grid(True)\n",
        "plt.plot(loss_per_epoch,'r--')"
      ],
      "metadata": {
        "colab": {
          "base_uri": "https://localhost:8080/",
          "height": 489
        },
        "id": "EldxlvSZLiBB",
        "outputId": "e12f859b-00d8-4bce-9155-c353df3a3496"
      },
      "execution_count": 45,
      "outputs": [
        {
          "output_type": "execute_result",
          "data": {
            "text/plain": [
              "[<matplotlib.lines.Line2D at 0x7ef7a59d0700>]"
            ]
          },
          "metadata": {},
          "execution_count": 45
        },
        {
          "output_type": "display_data",
          "data": {
            "text/plain": [
              "<Figure size 640x480 with 1 Axes>"
            ],
            "image/png": "[encoded data removed]"
          },
          "metadata": {}
        }
      ]
    },
    {
      "cell_type": "markdown",
      "source": [
        "Realizamos el mismo procedimiento para la funcion de accuracy, con el fin de ver que tann rapido aprende nuestro modelo con la configuracion asignada"
      ],
      "metadata": {
        "id": "MSFOLBe40WLg"
      }
    },
    {
      "cell_type": "code",
      "source": [
        "plt.xlabel('Epoca')\n",
        "plt.ylabel('accuracy')\n",
        "plt.title('accuracy_per_epoch')\n",
        "plt.grid(True)\n",
        "plt.plot(accuracy_per_epoch,'r--')"
      ],
      "metadata": {
        "colab": {
          "base_uri": "https://localhost:8080/",
          "height": 489
        },
        "id": "VCcYzHGFLx5g",
        "outputId": "03166d41-2a53-43ee-d6a9-2ca5f3d7cc2b"
      },
      "execution_count": 46,
      "outputs": [
        {
          "output_type": "execute_result",
          "data": {
            "text/plain": [
              "[<matplotlib.lines.Line2D at 0x7ef79fda6890>]"
            ]
          },
          "metadata": {},
          "execution_count": 46
        },
        {
          "output_type": "display_data",
          "data": {
            "text/plain": [
              "<Figure size 640x480 with 1 Axes>"
            ],
            "image/png": "[encoded data removed]"
          },
          "metadata": {}
        }
      ]
    },
    {
      "cell_type": "markdown",
      "source": [
        "## Testing del Modelo"
      ],
      "metadata": {
        "id": "wHKXfH_Z0ceU"
      }
    },
    {
      "cell_type": "markdown",
      "source": [
        "El proceso sigue una estructura similar, en donde primero se tiene que llamar a las funciones de lectura de imagenes para que el modelo pueda recibir el mismo tipo de imput con el que fue entrenado y a su vez con las mismas caracteristicas"
      ],
      "metadata": {
        "id": "9igBcZo20qTc"
      }
    },
    {
      "cell_type": "code",
      "source": [
        "dataset_test_norm,imagenes_test_norm=trans_imag_array('/content/drive/MyDrive/chest_xray/test/NORMAL')\n",
        "dataset_test_pneu,imagenes_test_pneu=trans_imag_array('/content/drive/MyDrive/chest_xray/test/PNEUMONIA')"
      ],
      "metadata": {
        "id": "6flNzX-aMh87"
      },
      "execution_count": 47,
      "outputs": []
    },
    {
      "cell_type": "code",
      "source": [
        "dataset_test_norm.shape[0],dataset_test_pneu.shape[0]"
      ],
      "metadata": {
        "colab": {
          "base_uri": "https://localhost:8080/"
        },
        "id": "gCWsYOIkMlDS",
        "outputId": "dd8456bd-69d9-480d-cdae-e999221a0931"
      },
      "execution_count": 48,
      "outputs": [
        {
          "output_type": "execute_result",
          "data": {
            "text/plain": [
              "(234, 390)"
            ]
          },
          "metadata": {},
          "execution_count": 48
        }
      ]
    },
    {
      "cell_type": "code",
      "source": [
        "predicciones=model.predict(test_dataset,steps=math.ceil(num_test_examples/BATCHSIZE))"
      ],
      "metadata": {
        "id": "VEIO9vYCL3KC"
      },
      "execution_count": null,
      "outputs": []
    }
  ]
}