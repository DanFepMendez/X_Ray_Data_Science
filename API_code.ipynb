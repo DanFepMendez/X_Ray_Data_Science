{
  "nbformat": 4,
  "nbformat_minor": 0,
  "metadata": {
    "colab": {
      "provenance": []
    },
    "kernelspec": {
      "name": "python3",
      "display_name": "Python 3"
    },
    "language_info": {
      "name": "python"
    }
  },
  "cells": [
    {
      "cell_type": "code",
      "execution_count": null,
      "metadata": {
        "id": "VhuYaNDLyAxJ"
      },
      "outputs": [],
      "source": [
        "from colabcode import ColabCode\n",
        "from fastapi import FastAPI, UploadFile, File\n",
        "from PIL import Image\n",
        "from io import BytesIO\n",
        "from pydantic import BaseModel\n",
        "from typing import List"
      ]
    },
    {
      "cell_type": "code",
      "source": [
        "cc=ColabCode(port=5000,code=False)"
      ],
      "metadata": {
        "id": "msRQkw-SyHlJ"
      },
      "execution_count": null,
      "outputs": []
    },
    {
      "cell_type": "code",
      "source": [
        "app=FastAPI()\n",
        "@app.get('/')\n",
        "\n",
        "\n",
        "@app.post(\"/upload/\")\n",
        "async def upload_image(file: UploadFile = File(...)):\n",
        "    contents = await file.read()\n",
        "    image = Image.open(BytesIO(contents))\n",
        "    # Realizar cualquier procesamiento de imagen o usarla para entrenar un modelo aquí\n",
        "    return {\"filename\": file.filename, \"content_type\": file.content_type}\n"
      ],
      "metadata": {
        "id": "1egepAlwyJxV"
      },
      "execution_count": null,
      "outputs": []
    },
    {
      "cell_type": "code",
      "source": [
        "cc.run_app(app=app)"
      ],
      "metadata": {
        "id": "F7h3KmgnyMoF"
      },
      "execution_count": null,
      "outputs": []
    }
  ]
}