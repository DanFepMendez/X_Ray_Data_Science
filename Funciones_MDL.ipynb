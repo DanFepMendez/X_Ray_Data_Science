{
  "nbformat": 4,
  "nbformat_minor": 0,
  "metadata": {
    "colab": {
      "provenance": []
    },
    "kernelspec": {
      "name": "python3",
      "display_name": "Python 3"
    },
    "language_info": {
      "name": "python"
    }
  },
  "cells": [
    {
      "cell_type": "markdown",
      "source": [
        "## Funciones"
      ],
      "metadata": {
        "id": "5arxVbOf2xV2"
      }
    },
    {
      "cell_type": "markdown",
      "source": [
        "##Funcion de Lectura de Imagenes"
      ],
      "metadata": {
        "id": "lQ5Sf1hh2zTC"
      }
    },
    {
      "cell_type": "markdown",
      "source": [
        "La siguiente funcion recorre un folder de imagenes dado y las dimensiona para que estas puedan ser recibidas por el modelo"
      ],
      "metadata": {
        "id": "ecnA0ufo26dN"
      }
    },
    {
      "cell_type": "code",
      "execution_count": 2,
      "metadata": {
        "id": "mxV8bEJnNAT5"
      },
      "outputs": [],
      "source": [
        "def trans_imag_array(directorio_imagenes):\n",
        "  imagenes = []\n",
        "\n",
        "  for filename in os.listdir(directorio_imagenes):\n",
        "\n",
        "      if filename.endswith('.jpeg') or filename.endswith('.png'):\n",
        "          # Carga la imagen usando cv2.imread()\n",
        "          ruta_imagen = os.path.join(directorio_imagenes, filename)\n",
        "          imagen = cv2.imread(ruta_imagen)\n",
        "\n",
        "          # Puedes realizar procesamiento adicional si es necesario (cambio de tamaño, normalización, etc.)\n",
        "          # Por ejemplo:\n",
        "          imagen_resized = cv2.resize(imagen, (30, 30))\n",
        "\n",
        "          # Añade la imagen procesada a la lista\n",
        "          imagenes.append(imagen_resized.flatten())\n",
        "\n",
        "  # Convierte la lista de imágenes a un array NumPy\n",
        "  dataset = np.array(imagenes)\n",
        "  return dataset,imagenes"
      ]
    },
    {
      "cell_type": "markdown",
      "source": [
        "## Funcion de creacion de Red Neural customizada"
      ],
      "metadata": {
        "id": "Jv-wKW-t22kC"
      }
    },
    {
      "cell_type": "markdown",
      "source": [
        "La siguiente funcion permite crear un modelo de red neuronal convolucional de acuerdo a lo que quiera el modelador (numero de capas ocultas y cantidad de neuronas para cada capa)"
      ],
      "metadata": {
        "id": "n7lvgQwc3DNz"
      }
    },
    {
      "cell_type": "code",
      "source": [
        "def create_model(neurons=1, layers=1):\n",
        "    model = Sequential()\n",
        "    model.add(Dense(2700, input_shape=(2700,), activation='relu'))\n",
        "    for _ in range(layers):\n",
        "        model.add(Dense(neurons, activation='relu'))\n",
        "    model.add(Dense(1, activation='sigmoid'))  # Capa de salida\n",
        "    model.compile(optimizer='adam', loss='binary_crossentropy', metrics=['accuracy'])\n",
        "    return model"
      ],
      "metadata": {
        "id": "zTZhykplPsZL"
      },
      "execution_count": null,
      "outputs": []
    }
  ]
}